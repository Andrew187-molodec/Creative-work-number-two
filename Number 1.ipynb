{
  "metadata": {
    "kernelspec": {
      "name": "python",
      "display_name": "Python (Pyodide)",
      "language": "python"
    },
    "language_info": {
      "codemirror_mode": {
        "name": "python",
        "version": 3
      },
      "file_extension": ".py",
      "mimetype": "text/x-python",
      "name": "python",
      "nbconvert_exporter": "python",
      "pygments_lexer": "ipython3",
      "version": "3.8"
    }
  },
  "nbformat_minor": 5,
  "nbformat": 4,
  "cells": [
    {
      "id": "462169ee-5714-4119-bc81-34e31a33e000",
      "cell_type": "markdown",
      "source": " Вовочка недавно сдавал ЕГЭ. Он очень сильно волнуется, но считает что он написал лучше всех в его группе. Помогить Вовочке понять написал   ли он на лучший балл в группе или нет.\n Входные данные\n Каждая строка входного файла содержит фамилию участника ЕГЭ, затем через пробел идет количество баллов учатника,которые он в сумме получил  на ЕГЭ.\n Выходные данные\n YES если Вовочка первый в группе по количеству баллов за ЕГЭ и NO если Вовочка не первы по количеству баллов за ЕГЭ.",
      "metadata": {}
    },
    {
      "id": "8ce1168a-b38b-45d5-9df1-8e651758307a",
      "cell_type": "markdown",
      "source": "Тесты \nТест 1\n    Вовочка 85\n    Петя 90\n    Саша 78\n    Коля 85\nПравельный ответ : No\nТест 2 \n  Вовочка 90\n    Петя 70\n    Саша 89\n   Коля 10\nПравельный ответ : Yes",
      "metadata": {}
    },
    {
      "id": "7dfba443-3112-4393-81b5-29c49533a55d",
      "cell_type": "code",
      "source": "#Решение:\ndef is_vovochka_top_student(input_data):\n    scores = {}\n    vovochka_score = 0\n    for line in input_data:\n        name, score_str = line.split()\n        score = int(score_str)\n        scores[name] = score\n        if name == \"Вовочка\":\n            vovochka_score = score\n    max_score = max(scores.values())\n    if vovochka_score == max_score:\n        return \"YES\"\n    else:\n        return \"NO\"\ninput_data = []\nresult = is_vovochka_top_student(input_data)\nprint(result) ",
      "metadata": {
        "trusted": true
      },
      "outputs": [],
      "execution_count": null
    }
  ]
}